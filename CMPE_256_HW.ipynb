{
  "nbformat": 4,
  "nbformat_minor": 0,
  "metadata": {
    "colab": {
      "name": "CMPE-256 HW.ipynb",
      "provenance": [],
      "authorship_tag": "ABX9TyMPC1KSlloaLZMTz1zApodW",
      "include_colab_link": true
    },
    "kernelspec": {
      "name": "python3",
      "display_name": "Python 3"
    },
    "language_info": {
      "name": "python"
    }
  },
  "cells": [
    {
      "cell_type": "markdown",
      "metadata": {
        "id": "view-in-github",
        "colab_type": "text"
      },
      "source": [
        "<a href=\"https://colab.research.google.com/github/vishnuvryeruva/Hierarchial-Clustering--Agglomerative--Single-Link/blob/main/CMPE_256_HW.ipynb\" target=\"_parent\"><img src=\"https://colab.research.google.com/assets/colab-badge.svg\" alt=\"Open In Colab\"/></a>"
      ]
    },
    {
      "cell_type": "code",
      "metadata": {
        "id": "9uVZBLz0_YDA"
      },
      "source": [
        "import numpy as np\n",
        "import sklearn\n",
        "import matplotlib.pyplot as plt\n",
        "import scipy.cluster.hierarchy as sch\n",
        "from sklearn.cluster import AgglomerativeClustering"
      ],
      "execution_count": 1,
      "outputs": []
    },
    {
      "cell_type": "code",
      "metadata": {
        "id": "zDNfeTQj_ao-"
      },
      "source": [
        "X = np.array([[2,2],[2,6],[3,7],[5,2],[5,5],[5,8],\n",
        "    [6,6],[7,3],[8,4],[10,6],[12,8],])"
      ],
      "execution_count": 2,
      "outputs": []
    },
    {
      "cell_type": "code",
      "metadata": {
        "colab": {
          "base_uri": "https://localhost:8080/",
          "height": 284
        },
        "id": "cCRgaXg__hFE",
        "outputId": "3fb6b9bf-fec5-4651-8be7-7f56d8067da5"
      },
      "source": [
        "plt.scatter(X[:,0],X[:,1])"
      ],
      "execution_count": 3,
      "outputs": [
        {
          "output_type": "execute_result",
          "data": {
            "text/plain": [
              "<matplotlib.collections.PathCollection at 0x7f26fe54b810>"
            ]
          },
          "metadata": {},
          "execution_count": 3
        },
        {
          "output_type": "display_data",
          "data": {
            "image/png": "[encoded data removed]",
            "text/plain": [
              "<Figure size 432x288 with 1 Axes>"
            ]
          },
          "metadata": {
            "needs_background": "light"
          }
        }
      ]
    },
    {
      "cell_type": "code",
      "metadata": {
        "colab": {
          "base_uri": "https://localhost:8080/"
        },
        "id": "WguJBjgE_mI7",
        "outputId": "91bda7f0-0a9a-4513-bd43-f82cc2e6dd05"
      },
      "source": [
        "hcs = AgglomerativeClustering(linkage='single',n_clusters=2).fit(X)\n",
        "hcs.labels_"
      ],
      "execution_count": 4,
      "outputs": [
        {
          "output_type": "execute_result",
          "data": {
            "text/plain": [
              "array([1, 0, 0, 0, 0, 0, 0, 0, 0, 0, 0])"
            ]
          },
          "metadata": {},
          "execution_count": 4
        }
      ]
    },
    {
      "cell_type": "code",
      "metadata": {
        "id": "QUXnmVV0_1aw"
      },
      "source": [
        "y_hcs = hcs.fit_predict(X)"
      ],
      "execution_count": 5,
      "outputs": []
    },
    {
      "cell_type": "code",
      "metadata": {
        "colab": {
          "base_uri": "https://localhost:8080/",
          "height": 284
        },
        "id": "-qLdQetJ_4ko",
        "outputId": "f4dad90c-9404-4fdd-a446-fda3f1c6561c"
      },
      "source": [
        "plt.scatter(X[y_hcs ==0,0],X[y_hcs==0,1],s=100,c='green')\n",
        "plt.scatter(X[y_hcs ==1,0],X[y_hcs==1,1],s=100,c='blue')\n",
        "plt.scatter(X[y_hcs ==2,0],X[y_hcs==2,1],s=100,c='yellow')\n",
        "plt.scatter(X[y_hcs ==3,0],X[y_hcs==3,1],s=100,c='red')\n",
        "plt.scatter(X[y_hcs ==4,0],X[y_hcs==4,1],s=100,c='black')\n",
        "plt.scatter(X[y_hcs ==5,0],X[y_hcs==5,1],s=100,c='gray')"
      ],
      "execution_count": 6,
      "outputs": [
        {
          "output_type": "execute_result",
          "data": {
            "text/plain": [
              "<matplotlib.collections.PathCollection at 0x7f26fdfdd690>"
            ]
          },
          "metadata": {},
          "execution_count": 6
        },
        {
          "output_type": "display_data",
          "data": {
            "image/png": "[encoded data removed]",
            "text/plain": [
              "<Figure size 432x288 with 1 Axes>"
            ]
          },
          "metadata": {
            "needs_background": "light"
          }
        }
      ]
    },
    {
      "cell_type": "code",
      "metadata": {
        "colab": {
          "base_uri": "https://localhost:8080/",
          "height": 268
        },
        "id": "zD3txIJH_9kd",
        "outputId": "257a346b-5c08-48d0-fa1f-a6411e91c4cb"
      },
      "source": [
        "dendrogram = sch.dendrogram(sch.linkage(X,method='single'))"
      ],
      "execution_count": 7,
      "outputs": [
        {
          "output_type": "display_data",
          "data": {
            "image/png": "[encoded data removed]",
            "text/plain": [
              "<Figure size 432x288 with 1 Axes>"
            ]
          },
          "metadata": {
            "needs_background": "light"
          }
        }
      ]
    },
    {
      "cell_type": "code",
      "metadata": {
        "colab": {
          "base_uri": "https://localhost:8080/"
        },
        "id": "wo60CnJhAR53",
        "outputId": "039dca6b-d278-4165-c404-9487493c36f1"
      },
      "source": [
        "hcc = AgglomerativeClustering(linkage='complete',n_clusters=3).fit(X)\n",
        "hcc.labels_"
      ],
      "execution_count": 8,
      "outputs": [
        {
          "output_type": "execute_result",
          "data": {
            "text/plain": [
              "array([0, 2, 2, 0, 2, 2, 2, 0, 0, 1, 1])"
            ]
          },
          "metadata": {},
          "execution_count": 8
        }
      ]
    },
    {
      "cell_type": "code",
      "metadata": {
        "id": "k9_05yxsAdAw"
      },
      "source": [
        "y_hcc = hcc.fit_predict(X)"
      ],
      "execution_count": 9,
      "outputs": []
    },
    {
      "cell_type": "code",
      "metadata": {
        "colab": {
          "base_uri": "https://localhost:8080/",
          "height": 284
        },
        "id": "YjKzoStZAhXI",
        "outputId": "555e9cd7-3356-426d-af32-1c75b829a685"
      },
      "source": [
        "plt.scatter(X[y_hcc ==0,0],X[y_hcc==0,1],s=100,c='green')\n",
        "plt.scatter(X[y_hcc ==1,0],X[y_hcc==1,1],s=100,c='blue')\n",
        "plt.scatter(X[y_hcc ==2,0],X[y_hcc==2,1],s=100,c='yellow')\n",
        "plt.scatter(X[y_hcc ==3,0],X[y_hcc==3,1],s=100,c='red')\n",
        "plt.scatter(X[y_hcc ==4,0],X[y_hcc==4,1],s=100,c='black')\n",
        "plt.scatter(X[y_hcc ==5,0],X[y_hcc==5,1],s=100,c='gray')"
      ],
      "execution_count": 10,
      "outputs": [
        {
          "output_type": "execute_result",
          "data": {
            "text/plain": [
              "<matplotlib.collections.PathCollection at 0x7f26f5ede790>"
            ]
          },
          "metadata": {},
          "execution_count": 10
        },
        {
          "output_type": "display_data",
          "data": {
            "image/png": "[encoded data removed]",
            "text/plain": [
              "<Figure size 432x288 with 1 Axes>"
            ]
          },
          "metadata": {
            "needs_background": "light"
          }
        }
      ]
    },
    {
      "cell_type": "code",
      "metadata": {
        "colab": {
          "base_uri": "https://localhost:8080/",
          "height": 268
        },
        "id": "KkritmW2AppK",
        "outputId": "6776e3f6-8a47-46a8-f11d-c6a5b0f93c5d"
      },
      "source": [
        "dendrogram = sch.dendrogram(sch.linkage(X,method='complete'))"
      ],
      "execution_count": 11,
      "outputs": [
        {
          "output_type": "display_data",
          "data": {
            "image/png": "[encoded data removed]",
            "text/plain": [
              "<Figure size 432x288 with 1 Axes>"
            ]
          },
          "metadata": {
            "needs_background": "light"
          }
        }
      ]
    },
    {
      "cell_type": "code",
      "metadata": {
        "colab": {
          "base_uri": "https://localhost:8080/"
        },
        "id": "lour2HXzAsCU",
        "outputId": "3b8db6bc-cc65-48c7-fbcd-8f19edb73655"
      },
      "source": [
        "hca = AgglomerativeClustering(linkage='average',n_clusters=3).fit(X)\n",
        "hca.labels_"
      ],
      "execution_count": 12,
      "outputs": [
        {
          "output_type": "execute_result",
          "data": {
            "text/plain": [
              "array([2, 0, 0, 0, 0, 0, 0, 0, 0, 1, 1])"
            ]
          },
          "metadata": {},
          "execution_count": 12
        }
      ]
    },
    {
      "cell_type": "code",
      "metadata": {
        "id": "g-vE6oFbAu4g"
      },
      "source": [
        "y_hca = hca.fit_predict(X)"
      ],
      "execution_count": 13,
      "outputs": []
    },
    {
      "cell_type": "code",
      "metadata": {
        "colab": {
          "base_uri": "https://localhost:8080/",
          "height": 284
        },
        "id": "RIVdtRcGAylT",
        "outputId": "b3689324-119d-4207-c94a-a2c6c57e133b"
      },
      "source": [
        "plt.scatter(X[y_hca ==0,0],X[y_hca==0,1],s=100,c='green')\n",
        "plt.scatter(X[y_hca ==1,0],X[y_hca==1,1],s=100,c='blue')\n",
        "plt.scatter(X[y_hca ==2,0],X[y_hca==2,1],s=100,c='yellow')\n",
        "plt.scatter(X[y_hca ==3,0],X[y_hca==3,1],s=100,c='red')\n",
        "plt.scatter(X[y_hca ==4,0],X[y_hca==4,1],s=100,c='black')\n",
        "plt.scatter(X[y_hca ==5,0],X[y_hca==5,1],s=100,c='gray')"
      ],
      "execution_count": 14,
      "outputs": [
        {
          "output_type": "execute_result",
          "data": {
            "text/plain": [
              "<matplotlib.collections.PathCollection at 0x7f26fdf91410>"
            ]
          },
          "metadata": {},
          "execution_count": 14
        },
        {
          "output_type": "display_data",
          "data": {
            "image/png": "[encoded data removed]",
            "text/plain": [
              "<Figure size 432x288 with 1 Axes>"
            ]
          },
          "metadata": {
            "needs_background": "light"
          }
        }
      ]
    },
    {
      "cell_type": "code",
      "metadata": {
        "colab": {
          "base_uri": "https://localhost:8080/",
          "height": 268
        },
        "id": "5OUKnCTnA2oK",
        "outputId": "a8a910dd-6ff6-4fa0-c141-07574ef9698b"
      },
      "source": [
        "dendrogram = sch.dendrogram(sch.linkage(X,method='average'))"
      ],
      "execution_count": 15,
      "outputs": [
        {
          "output_type": "display_data",
          "data": {
            "image/png": "[encoded data removed]",
            "text/plain": [
              "<Figure size 432x288 with 1 Axes>"
            ]
          },
          "metadata": {
            "needs_background": "light"
          }
        }
      ]
    }
  ]
}